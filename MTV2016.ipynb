{
 "cells": [
  {
   "cell_type": "markdown",
   "metadata": {},
   "source": [
    "This notebook is a first attempt to translate the FORTRAN90 code from MTV2016 into python\n",
    "and to replicate the main results of this paper."
   ]
  },
  {
   "cell_type": "code",
   "execution_count": 1,
   "metadata": {},
   "outputs": [],
   "source": [
    "#Paramters for the piece-rate version\n",
    "\n",
    "delta = 0.000226\n",
    "lambe = 0.7048178\n",
    "k = 22.9931\n",
    "sima_z = 0.0\n",
    "rhorho1 = 4.296953\n",
    "rho2 = 0.065518\n",
    "zlearningprob = 0.26398515\n",
    "b = 2.3105359\n",
    "theta9 = 0.0\n",
    "theta10 = 0.0\n",
    "kweib = 11.23955\n",
    "lweib = 3.46394\n",
    "zshockprob = 0.0093854   \n",
    "\n",
    "\n",
    "#    IF (npar>=10) THEN\n",
    "#    rho3=theta(9)  \n",
    "#    rho4=theta(10)  \n",
    "#    ELSE IF (npar==8) THEN\n",
    "#    rho3=0.0_8\n",
    "#    rho4=0.0_8\n",
    "#    ELSE \n"
   ]
  }
 ],
 "metadata": {
  "kernelspec": {
   "display_name": "Python 3",
   "language": "python",
   "name": "python3"
  },
  "language_info": {
   "codemirror_mode": {
    "name": "ipython",
    "version": 3
   },
   "file_extension": ".py",
   "mimetype": "text/x-python",
   "name": "python",
   "nbconvert_exporter": "python",
   "pygments_lexer": "ipython3",
   "version": "3.6.5"
  }
 },
 "nbformat": 4,
 "nbformat_minor": 2
}
