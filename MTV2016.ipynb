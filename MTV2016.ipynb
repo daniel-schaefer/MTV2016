{
 "cells": [
  {
   "cell_type": "markdown",
   "metadata": {},
   "source": [
    "This notebook is a first attempt to translate the FORTRAN90 code from MTV2016 into python\n",
    "and to replicate the main results of this paper."
   ]
  },
  {
   "cell_type": "code",
   "execution_count": 1,
   "metadata": {},
   "outputs": [],
   "source": [
    "import numpy as np\n",
    "from scipy.stats import lognorm\n",
    "\n",
    "import matplotlib.pyplot as plt\n",
    "plt.style.use(['dark_background'])"
   ]
  },
  {
   "cell_type": "code",
   "execution_count": 2,
   "metadata": {},
   "outputs": [],
   "source": [
    "#Paramters for the piece-rate version\n",
    "\n",
    "delta = 0.000226\n",
    "lamb_e = 0.7048178\n",
    "k = 22.9931\n",
    "sigma_z = 0.0\n",
    "rhorho1 = 4.296953\n",
    "rho2 = 0.065518\n",
    "zlearningprob = 0.26398515\n",
    "b = 2.3105359\n",
    "theta9 = 0.0\n",
    "theta10 = 0.0\n",
    "zshockprob = 0.0093854   \n",
    "\n",
    "\n",
    "#    IF (npar>=10) THEN\n",
    "#    rho3=theta(9)  \n",
    "#    rho4=theta(10)  \n",
    "#    ELSE IF (npar==8) THEN\n",
    "#    rho3=0.0_8\n",
    "#    rho4=0.0_8\n",
    "#    ELSE "
   ]
  },
  {
   "cell_type": "code",
   "execution_count": 26,
   "metadata": {},
   "outputs": [],
   "source": [
    "# Match shock z.\n",
    "# First, populating the match productivity shock vector, if zpts_first is >1\n",
    "\n",
    "zpts_first = 102 # basic grid. 102 in MTV2016\n",
    "\n",
    "zpts = zpts_first\n",
    "\n",
    "# zvector are the actual values of the match quality, dim(zpts)\n",
    "# ztransmatrix is the transition matrix, dim(zpts, zpts)"
   ]
  },
  {
   "cell_type": "code",
   "execution_count": 6,
   "metadata": {},
   "outputs": [
    {
     "data": {
      "image/png": "[encoded data removed]",
      "text/plain": [
       "<Figure size 432x288 with 1 Axes>"
      ]
     },
     "metadata": {},
     "output_type": "display_data"
    }
   ],
   "source": [
    "sigma_z = 0.2\n",
    "mu_temp = np.exp(-0.5 * sigma_z**2) # this guarantess that the mean of the distribution is 1\n",
    "\n",
    "x = np.linspace(0, 4, 500)\n",
    "plt.plot(x, lognorm.cdf(x, sigma_z, loc=0, scale=mu_temp))\n",
    "plt.plot(x, lognorm.pdf(x, sigma_z, loc=0, scale=mu_temp))\n",
    "plt.show()\n",
    "\n",
    "# print(lognorm.cdf(0.3, shape, loc=0, scale=mu_temp))\n",
    "# tempreal = 0.8 * xstep * lognorm.cdf(0.3, shape, loc=0, scale=mu_temp)\n",
    "# tempreal"
   ]
  },
  {
   "cell_type": "code",
   "execution_count": 18,
   "metadata": {},
   "outputs": [
    {
     "data": {
      "text/plain": [
       "5.713281672824242e-255"
      ]
     },
     "execution_count": 18,
     "metadata": {},
     "output_type": "execute_result"
    }
   ],
   "source": [
    "lognorm.pdf(0.001, 0.2, loc=0, scale=mu_temp)"
   ]
  },
  {
   "cell_type": "code",
   "execution_count": 38,
   "metadata": {},
   "outputs": [
    {
     "name": "stderr",
     "output_type": "stream",
     "text": [
      "C:\\Anaconda3\\lib\\site-packages\\ipykernel_launcher.py:59: RuntimeWarning: invalid value encountered in double_scalars\n"
     ]
    }
   ],
   "source": [
    "# Obtain a discrete LOGNORMAL probability distr for z\n",
    "\n",
    "zprobcdf = np.empty((zpts))\n",
    "zprobpdf = np.empty((zpts))\n",
    "zvector = np.empty((zpts))\n",
    "\n",
    "sigma_z = 0.2 # CHANGE OF PARAMTER: sigma_z must be positive\n",
    "mu_temp = np.exp(-0.5 * sigma_z**2) # mean of the lognormal distr, s.t. mean of the distr is 1\n",
    "binsize = 1 / (zpts - 1) # binsize\n",
    "\n",
    "shape = sigma_z\n",
    "\n",
    "resolution = 10000\n",
    "xstep = 1 / resolution # keep stepping, Resolution should be much higher than no. of bins (resolution=10000)\n",
    "\n",
    "xvalue = xstep # move along the interval of z's, starting close to 1\n",
    "tempreal = 0.8 * xstep * lognorm.cdf(xvalue, shape, loc=0, scale=mu_temp) # this value is used to weight the z-values\n",
    "# properly within the bin\n",
    "bincounter = 1 # start with the first bin\n",
    "\n",
    "# zprobcdf contains the probabilities of the idiosyncratic shock, dim zpts\n",
    "\n",
    "# First fill all but the last coordinate\n",
    "while bincounter < zpts:\n",
    "    if lognorm.cdf(xvalue, shape, loc=0, scale=mu_temp) >= (bincounter * binsize): # if the bin is full..\n",
    "        zprobcdf[bincounter - 1] = lognorm.cdf(xvalue, shape, loc=0, scale=mu_temp) # add to the cdf\n",
    "        if bincounter == 1:\n",
    "            zprobpdf[bincounter - 1] = zprobcdf[bincounter - 1]\n",
    "            zvector[bincounter - 1] = tempreal / zprobpdf[bincounter - 1]\n",
    "        else:\n",
    "            zprobpdf[bincounter - 1] = zprobcdf[bincounter - 1] - zprobcdf[bincounter - 2]\n",
    "            zvector[bincounter - 1] = tempreal / zprobpdf[bincounter - 1]\n",
    "        \n",
    "        tempreal = 0 # reset the average counter \n",
    "        bincounter += 1\n",
    "        \n",
    "        while lognorm.cdf(xvalue, shape, loc=0, scale=mu_temp) >= (bincounter * binsize):\n",
    "            zvector[bincounter - 1] = xstep\n",
    "            zprobcdf[bincounter - 1] = lognorm.cdf(xvalue, shape, loc=0, scale=mu_temp)\n",
    "            zprobpdf[bincounter - 1] = 0\n",
    "            bincounter += 1\n",
    "            \n",
    "    else:\n",
    "        while lognorm.cdf(xvalue, shape, loc=0, scale=mu_temp) < (bincounter * binsize):\n",
    "            xvalue = xvalue + xstep\n",
    "            tempreal = tempreal + (xvalue - 0.5 * xstep) * (lognorm.cdf(xvalue, shape, loc=0, scale=mu_temp) \\\n",
    "                                                        - lognorm.cdf(xvalue - xstep, shape, loc=0, scale=mu_temp))\n",
    "# # last gridpoint\n",
    "# tempreal = 0\n",
    "# xstep = xvalue / (zpts * 5)\n",
    "\n",
    "# counter1 = 1\n",
    "# while counter1 < 11:\n",
    "#     xvalue = xvalue + xstep\n",
    "#     tempreal = tempreal + (xvalue - 0.5 * xstep) * (lognorm.cdf(xvalue, shape, loc=0, scale=mu_temp) \\\n",
    "#                                                         - lognorm.cdf(xvalue - xstep, shape, loc=0, scale=mu_temp))\n",
    "#     counter1 += 1\n",
    "    \n",
    "zvector[zpts-1] = tempreal / (lognorm.cdf(xvalue, shape, loc=0, scale=mu_temp) - zprobcdf[zpts - 2])\n",
    "zprobcdf[zpts-1] = 1\n",
    "zprobpdf[zpts-1] = 1 - zprobcdf[zpts - 2]"
   ]
  },
  {
   "cell_type": "code",
   "execution_count": 45,
   "metadata": {},
   "outputs": [
    {
     "data": {
      "text/plain": [
       "array([0.00990698, 0.01980648, 0.02974805, 0.0396644 , 0.04955272,\n",
       "       0.05947277, 0.06938223, 0.07923184, 0.08919173, 0.09910311,\n",
       "       0.10893479, 0.11881784, 0.12880442, 0.13869252, 0.14855168,\n",
       "       0.15847621, 0.168427  , 0.17836628, 0.18825793, 0.19806757,\n",
       "       0.20793472, 0.21783937, 0.22776213, 0.23768432, 0.24758799,\n",
       "       0.25745601, 0.26746212, 0.27740545, 0.28727089, 0.29704422,\n",
       "       0.30710852, 0.31686155, 0.3268903 , 0.33678623, 0.34653815,\n",
       "       0.35654522, 0.36639199, 0.37627534, 0.38618846, 0.39612456,\n",
       "       0.40607695, 0.41603897, 0.42579646, 0.43575829, 0.4457105 ,\n",
       "       0.45564682, 0.46535485, 0.47544745, 0.48529992, 0.49511282,\n",
       "       0.5050836 , 0.51500164, 0.5248614 , 0.53465752, 0.5445826 ,\n",
       "       0.55462691, 0.56439141, 0.57426164, 0.58422725, 0.59408886,\n",
       "       0.60402829, 0.61403437, 0.62391387, 0.63384175, 0.64362965,\n",
       "       0.65362162, 0.66345512, 0.67329477, 0.68329353, 0.69310577,\n",
       "       0.70304604, 0.71293662, 0.7229168 , 0.73281519, 0.74261932,\n",
       "       0.75259833, 0.76244347, 0.77240816, 0.78219936, 0.79217867,\n",
       "       0.80205708, 0.81192674, 0.82186214, 0.83170763, 0.84163016,\n",
       "       0.85156628, 0.86145326, 0.87131543, 0.88123814, 0.89111687,\n",
       "       0.90105713, 0.91091244, 0.92082864, 0.93074145, 0.94061873,\n",
       "       0.95051911, 0.96041339, 0.97030022, 0.98021372, 0.99010103,\n",
       "       1.        , 1.        ])"
      ]
     },
     "execution_count": 45,
     "metadata": {},
     "output_type": "execute_result"
    }
   ],
   "source": [
    "zprobcdf"
   ]
  },
  {
   "cell_type": "code",
   "execution_count": null,
   "metadata": {},
   "outputs": [],
   "source": [
    "# UNIFORM distr of z shocks\n",
    "\n",
    "tempreal = 1 / (zpts - 1)\n",
    "zprobpdf(2:zpts) = tempreal\n",
    "\n",
    "tempreal2 = 1 / (zpts - 2)\n",
    "zvector = 0.5 \n",
    "zprobcdf(2) = zprobpdf(2)\n",
    "\n",
    "for zcnt in range(3, zpts+1):\n",
    "    zvector(zctn) = zvector(zctn - 1) + tempreal2\n",
    "    zprobcdf(zctn) = zprobcdf(zctn - 1) + tempreal\n",
    "    zctn += 1"
   ]
  }
 ],
 "metadata": {
  "kernelspec": {
   "display_name": "Python 3",
   "language": "python",
   "name": "python3"
  },
  "language_info": {
   "codemirror_mode": {
    "name": "ipython",
    "version": 3
   },
   "file_extension": ".py",
   "mimetype": "text/x-python",
   "name": "python",
   "nbconvert_exporter": "python",
   "pygments_lexer": "ipython3",
   "version": "3.6.5"
  }
 },
 "nbformat": 4,
 "nbformat_minor": 2
}
