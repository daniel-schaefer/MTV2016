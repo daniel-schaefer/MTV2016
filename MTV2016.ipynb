{
 "cells": [
  {
   "cell_type": "markdown",
   "metadata": {},
   "source": [
    "This notebook is a first attempt to translate the FORTRAN90 code from MTV2016 into python\n",
    "and to replicate the main results of this paper."
   ]
  },
  {
   "cell_type": "code",
   "execution_count": 1,
   "metadata": {},
   "outputs": [],
   "source": [
    "#Paramters for the piece-rate version\n",
    "\n",
    "delta = 0.000226\n",
    "lambe = 0.7048178\n",
    "k = 22.9931\n",
    "sigma_z = 0.0\n",
    "rhorho1 = 4.296953\n",
    "rho2 = 0.065518\n",
    "zlearningprob = 0.26398515\n",
    "b = 2.3105359\n",
    "theta9 = 0.0\n",
    "theta10 = 0.0\n",
    "kweib = 11.23955\n",
    "lweib = 3.46394\n",
    "zshockprob = 0.0093854   \n",
    "\n",
    "\n",
    "#    IF (npar>=10) THEN\n",
    "#    rho3=theta(9)  \n",
    "#    rho4=theta(10)  \n",
    "#    ELSE IF (npar==8) THEN\n",
    "#    rho3=0.0_8\n",
    "#    rho4=0.0_8\n",
    "#    ELSE "
   ]
  },
  {
   "cell_type": "code",
   "execution_count": null,
   "metadata": {},
   "outputs": [],
   "source": [
    "# Match shock z.\n",
    "# First, populating the match productivity shock vector, if zpts_first is >1\n",
    "\n",
    "zpts = zpts_first\n",
    "\n",
    "# zvector are the actual values of the match quality, dim(zpts)\n",
    "# ztransmatrix is the transition matrix, dim(zpts, zpts)"
   ]
  },
  {
   "cell_type": "code",
   "execution_count": null,
   "metadata": {},
   "outputs": [],
   "source": [
    "# LOGNORMAL distr of z shocks\n",
    "\n",
    "mu_temp = -0.5 * sigma_z**2 # mean of the lognormal distr, s.t. mean of the distr is 1\n",
    "binsize = 1 / (zpts - 1) # binsize\n",
    "xstep = 1 / resolution # keep stepping, Resolution should be much higher than no of bins (10000)\n",
    "\n",
    "xvalue = xstep # move along the interval of z's, starting close to 1\n",
    "tempreal = 0.8 * xstep * lnorm(xvalue, mu_step, sigma_z) # this value is used to weight the z-values\n",
    "# properly within the bin\n",
    "bincounter = 1 # start with the first bin\n",
    "\n",
    "# zprobcdf contains the probabilities of the idiosyncratic shock, dim zpts\n",
    "\n",
    "while bincounter < (zpts - 1):\n",
    "    if lnorm(xvalue, mu_step, sigma_z) >= (bincounter * binsize): # if the bin is full..\n",
    "        zprobcdf(bincounter) = lnorm(xvalue, mu_step, sigma_z) # add to the cdf\n",
    "        if bincounter == 1:\n",
    "            zprobcdf(bincounter) = zprobcdf(bincounter)\n",
    "            zvector(bincounter) = tempreal / zprobcdf(bincounter)\n",
    "        else if bincounter > 1:\n",
    "            zprobcdf(bincounter) = zprobcdf(bincounter) - zprobcdf(bincounter - 1)\n",
    "            zvector(bincounter) = tempreal / zprobcdf(bincounter)\n",
    "        \n",
    "        tempreal = 0 # reset the average counter \n",
    "        bincounter += 1\n",
    "        \n",
    "        while lnorm(xvalue, mu_step, sigma_z) >= (bincounter * binsize):\n",
    "            zvector(bincounter) = xstep\n",
    "            zprobcdf(bincounter) = lnorm(xvalue, mu_step, sigma_z)\n",
    "            zprobcdf(bincounter) = 0\n",
    "            bincounter += 1\n",
    "            \n",
    "    else:\n",
    "        xvalue = xvalue + xstep\n",
    "        tempreal = tempreal + (xvalue - 0.5 * xstep) * (lnorm(xvalue, mu_step, sigma_z) - lnorm(xvalue - xstep, mu_step, sigma_z))\n",
    "        \n",
    "# last gridpoint\n",
    "\n",
    "tempreal = 0\n",
    "xstep = xvalue / (zpts * 5)\n",
    "\n",
    "counter1 = 1\n",
    "while counter1 < 11:\n",
    "    xvalue = xvalue + xstep\n",
    "    tempreal = tempreal + (xvalue - 0.5 * xstep) * (lnorm(xvalue, mu_step, sigma_z) - lnorm(xvalue - xstep, mu_step, sigma_z))\n",
    "    counter1 += 1\n",
    "    \n",
    "zvector(zpts - 1) = tempreal / ((lnorm(xvalue, mu_step, sigma_z) - zprobcdf(zpts - 2))\n",
    "zprobcdf(zpts - 1) = 1\n",
    "zprobcdf(zpts - 1) = 1 - zprobcdf(zpts - 2)"
   ]
  },
  {
   "cell_type": "code",
   "execution_count": null,
   "metadata": {},
   "outputs": [],
   "source": [
    "# UNIFORM distr of z shocks\n",
    "\n",
    "tempreal = 1 / (zpts - 1)\n",
    "zprobcdf(2:zpts) = tempreal\n",
    "\n",
    "tempreal2 = 1 / (zpts - 2)\n",
    "zvector = 0.5\n",
    "zprobcdf(2) = zprobcdf(2)\n",
    "\n",
    "for zcnt in range(3, zpts+1):\n",
    "    zvector(zctn) = zvector(zctn - 1) + tempreal2\n",
    "    zprobcdf(zctn) = zprobcdf(zctn - 1) + tempreal\n",
    "    zctn += 1"
   ]
  }
 ],
 "metadata": {
  "kernelspec": {
   "display_name": "Python 3",
   "language": "python",
   "name": "python3"
  },
  "language_info": {
   "codemirror_mode": {
    "name": "ipython",
    "version": 3
   },
   "file_extension": ".py",
   "mimetype": "text/x-python",
   "name": "python",
   "nbconvert_exporter": "python",
   "pygments_lexer": "ipython3",
   "version": "3.6.5"
  }
 },
 "nbformat": 4,
 "nbformat_minor": 2
}
